{
  "nbformat": 4,
  "nbformat_minor": 0,
  "metadata": {
    "colab": {
      "provenance": []
    },
    "kernelspec": {
      "name": "python3",
      "display_name": "Python 3"
    },
    "language_info": {
      "name": "python"
    }
  },
  "cells": [
    {
      "cell_type": "markdown",
      "source": [
        "# Análisis de GW170817\n",
        "Un ejemplo para hallar la SNR con una plantilla Post-Newtoniana utilizando la libreria pycbc"
      ],
      "metadata": {
        "id": "fzrs3QThxmSz"
      }
    },
    {
      "cell_type": "code",
      "execution_count": 1,
      "metadata": {
        "colab": {
          "base_uri": "https://localhost:8080/"
        },
        "id": "Z1egtyZWw6Ez",
        "outputId": "f3b69248-76b5-4ba6-9b8e-ff36c0a4fc3b"
      },
      "outputs": [
        {
          "output_type": "stream",
          "name": "stdout",
          "text": [
            "Collecting pycbc\n",
            "  Downloading PyCBC-2.2.1-cp310-cp310-manylinux_2_17_x86_64.manylinux2014_x86_64.whl (8.3 MB)\n",
            "\u001b[2K     \u001b[90m━━━━━━━━━━━━━━━━━━━━━━━━━━━━━━━━━━━━━━━━\u001b[0m \u001b[32m8.3/8.3 MB\u001b[0m \u001b[31m58.0 MB/s\u001b[0m eta \u001b[36m0:00:00\u001b[0m\n",
            "\u001b[?25hCollecting ligo-common\n",
            "  Downloading ligo_common-1.0.3-py2.py3-none-any.whl (2.0 kB)\n",
            "Requirement already satisfied: numpy>=1.16.0 in /usr/local/lib/python3.10/dist-packages (from pycbc) (1.22.4)\n",
            "Requirement already satisfied: cython>=0.29 in /usr/local/lib/python3.10/dist-packages (from pycbc) (0.29.36)\n",
            "Requirement already satisfied: scipy>=0.16.0 in /usr/local/lib/python3.10/dist-packages (from pycbc) (1.10.1)\n",
            "Requirement already satisfied: astropy!=4.0.5,!=4.2.1,>=2.0.3 in /usr/local/lib/python3.10/dist-packages (from pycbc) (5.2.2)\n",
            "Requirement already satisfied: matplotlib>=1.5.1 in /usr/local/lib/python3.10/dist-packages (from pycbc) (3.7.1)\n",
            "Collecting mpld3>=0.3 (from pycbc)\n",
            "  Downloading mpld3-0.5.9-py3-none-any.whl (201 kB)\n",
            "\u001b[2K     \u001b[90m━━━━━━━━━━━━━━━━━━━━━━━━━━━━━━━━━━━━━\u001b[0m \u001b[32m201.2/201.2 kB\u001b[0m \u001b[31m180.1 MB/s\u001b[0m eta \u001b[36m0:00:00\u001b[0m\n",
            "\u001b[?25hRequirement already satisfied: pillow in /usr/local/lib/python3.10/dist-packages (from pycbc) (9.4.0)\n",
            "Requirement already satisfied: h5py!=3.7.0,>=3.0.0 in /usr/local/lib/python3.10/dist-packages (from pycbc) (3.8.0)\n",
            "Requirement already satisfied: jinja2 in /usr/local/lib/python3.10/dist-packages (from pycbc) (3.1.2)\n",
            "Collecting Mako>=1.0.1 (from pycbc)\n",
            "  Downloading Mako-1.2.4-py3-none-any.whl (78 kB)\n",
            "\u001b[2K     \u001b[90m━━━━━━━━━━━━━━━━━━━━━━━━━━━━━━━━━━━━━━━\u001b[0m \u001b[32m78.7/78.7 kB\u001b[0m \u001b[31m113.4 MB/s\u001b[0m eta \u001b[36m0:00:00\u001b[0m\n",
            "\u001b[?25hRequirement already satisfied: beautifulsoup4>=4.6.0 in /usr/local/lib/python3.10/dist-packages (from pycbc) (4.11.2)\n",
            "Requirement already satisfied: tqdm in /usr/local/lib/python3.10/dist-packages (from pycbc) (4.65.0)\n",
            "Requirement already satisfied: setuptools in /usr/local/lib/python3.10/dist-packages (from pycbc) (67.7.2)\n",
            "Collecting gwdatafind (from pycbc)\n",
            "  Downloading gwdatafind-1.1.3-py3-none-any.whl (45 kB)\n",
            "\u001b[2K     \u001b[90m━━━━━━━━━━━━━━━━━━━━━━━━━━━━━━━━━━━━━━━\u001b[0m \u001b[32m45.4/45.4 kB\u001b[0m \u001b[31m170.4 MB/s\u001b[0m eta \u001b[36m0:00:00\u001b[0m\n",
            "\u001b[?25hCollecting pegasus-wms.api>=5.0.3 (from pycbc)\n",
            "  Downloading pegasus-wms.api-5.0.6.tar.gz (47 kB)\n",
            "\u001b[2K     \u001b[90m━━━━━━━━━━━━━━━━━━━━━━━━━━━━━━━━━━━━━━━\u001b[0m \u001b[32m47.2/47.2 kB\u001b[0m \u001b[31m213.8 MB/s\u001b[0m eta \u001b[36m0:00:00\u001b[0m\n",
            "\u001b[?25h  Installing build dependencies ... \u001b[?25l\u001b[?25hdone\n",
            "  Getting requirements to build wheel ... \u001b[?25l\u001b[?25hdone\n",
            "  Preparing metadata (pyproject.toml) ... \u001b[?25l\u001b[?25hdone\n",
            "Collecting python-ligo-lw>=1.7.0 (from pycbc)\n",
            "  Downloading python-ligo-lw-1.8.3.tar.gz (2.3 MB)\n",
            "\u001b[2K     \u001b[90m━━━━━━━━━━━━━━━━━━━━━━━━━━━━━━━━━━━━━━━━\u001b[0m \u001b[32m2.3/2.3 MB\u001b[0m \u001b[31m366.5 MB/s\u001b[0m eta \u001b[36m0:00:00\u001b[0m\n",
            "\u001b[?25h  Preparing metadata (setup.py) ... \u001b[?25l\u001b[?25hdone\n",
            "Collecting ligo-segments (from pycbc)\n",
            "  Downloading ligo-segments-1.4.0.tar.gz (51 kB)\n",
            "\u001b[2K     \u001b[90m━━━━━━━━━━━━━━━━━━━━━━━━━━━━━━━━━━━━━━━\u001b[0m \u001b[32m51.0/51.0 kB\u001b[0m \u001b[31m228.5 MB/s\u001b[0m eta \u001b[36m0:00:00\u001b[0m\n",
            "\u001b[?25h  Preparing metadata (setup.py) ... \u001b[?25l\u001b[?25hdone\n",
            "Collecting lalsuite!=7.2 (from pycbc)\n",
            "  Downloading lalsuite-7.18-cp310-cp310-manylinux_2_28_x86_64.whl (57.9 MB)\n",
            "\u001b[2K     \u001b[90m━━━━━━━━━━━━━━━━━━━━━━━━━━━━━━━━━━━━━━━\u001b[0m \u001b[32m57.9/57.9 MB\u001b[0m \u001b[31m185.0 MB/s\u001b[0m eta \u001b[36m0:00:00\u001b[0m\n",
            "\u001b[?25hCollecting lscsoft-glue>=1.59.3 (from pycbc)\n",
            "  Downloading lscsoft-glue-3.0.1.tar.gz (1.4 MB)\n",
            "\u001b[2K     \u001b[90m━━━━━━━━━━━━━━━━━━━━━━━━━━━━━━━━━━━━━━━━\u001b[0m \u001b[32m1.4/1.4 MB\u001b[0m \u001b[31m22.0 MB/s\u001b[0m eta \u001b[36m0:00:00\u001b[0m\n",
            "\u001b[?25h  Installing build dependencies ... \u001b[?25l\u001b[?25hdone\n",
            "  Getting requirements to build wheel ... \u001b[?25l\u001b[?25hdone\n",
            "  Preparing metadata (pyproject.toml) ... \u001b[?25l\u001b[?25hdone\n",
            "Collecting pykerr (from pycbc)\n",
            "  Downloading pykerr-0.1.0-py3-none-any.whl (48.1 MB)\n",
            "\u001b[2K     \u001b[90m━━━━━━━━━━━━━━━━━━━━━━━━━━━━━━━━━━━━━━━━\u001b[0m \u001b[32m48.1/48.1 MB\u001b[0m \u001b[31m62.2 MB/s\u001b[0m eta \u001b[36m0:00:00\u001b[0m\n",
            "\u001b[?25hRequirement already satisfied: pyerfa>=2.0 in /usr/local/lib/python3.10/dist-packages (from astropy!=4.0.5,!=4.2.1,>=2.0.3->pycbc) (2.0.0.3)\n",
            "Requirement already satisfied: PyYAML>=3.13 in /usr/local/lib/python3.10/dist-packages (from astropy!=4.0.5,!=4.2.1,>=2.0.3->pycbc) (6.0.1)\n",
            "Requirement already satisfied: packaging>=19.0 in /usr/local/lib/python3.10/dist-packages (from astropy!=4.0.5,!=4.2.1,>=2.0.3->pycbc) (23.1)\n",
            "Requirement already satisfied: soupsieve>1.2 in /usr/local/lib/python3.10/dist-packages (from beautifulsoup4>=4.6.0->pycbc) (2.4.1)\n",
            "Requirement already satisfied: python-dateutil in /usr/local/lib/python3.10/dist-packages (from lalsuite!=7.2->pycbc) (2.8.2)\n",
            "Collecting pyOpenSSL (from lscsoft-glue>=1.59.3->pycbc)\n",
            "  Downloading pyOpenSSL-23.2.0-py3-none-any.whl (59 kB)\n",
            "\u001b[2K     \u001b[90m━━━━━━━━━━━━━━━━━━━━━━━━━━━━━━━━━━━━━━━\u001b[0m \u001b[32m59.0/59.0 kB\u001b[0m \u001b[31m126.7 MB/s\u001b[0m eta \u001b[36m0:00:00\u001b[0m\n",
            "\u001b[?25hCollecting pyRXP (from lscsoft-glue>=1.59.3->pycbc)\n",
            "  Downloading pyRXP-3.0.1-cp310-cp310-manylinux_2_12_x86_64.manylinux2010_x86_64.whl (298 kB)\n",
            "\u001b[2K     \u001b[90m━━━━━━━━━━━━━━━━━━━━━━━━━━━━━━━━━━━━━\u001b[0m \u001b[32m298.1/298.1 kB\u001b[0m \u001b[31m366.1 MB/s\u001b[0m eta \u001b[36m0:00:00\u001b[0m\n",
            "\u001b[?25hRequirement already satisfied: six in /usr/local/lib/python3.10/dist-packages (from lscsoft-glue>=1.59.3->pycbc) (1.16.0)\n",
            "Requirement already satisfied: MarkupSafe>=0.9.2 in /usr/local/lib/python3.10/dist-packages (from Mako>=1.0.1->pycbc) (2.1.3)\n",
            "Requirement already satisfied: contourpy>=1.0.1 in /usr/local/lib/python3.10/dist-packages (from matplotlib>=1.5.1->pycbc) (1.1.0)\n",
            "Requirement already satisfied: cycler>=0.10 in /usr/local/lib/python3.10/dist-packages (from matplotlib>=1.5.1->pycbc) (0.11.0)\n",
            "Requirement already satisfied: fonttools>=4.22.0 in /usr/local/lib/python3.10/dist-packages (from matplotlib>=1.5.1->pycbc) (4.41.1)\n",
            "Requirement already satisfied: kiwisolver>=1.0.1 in /usr/local/lib/python3.10/dist-packages (from matplotlib>=1.5.1->pycbc) (1.4.4)\n",
            "Requirement already satisfied: pyparsing>=2.3.1 in /usr/local/lib/python3.10/dist-packages (from matplotlib>=1.5.1->pycbc) (3.1.0)\n",
            "Collecting pegasus-wms.common (from pegasus-wms.api>=5.0.3->pycbc)\n",
            "  Downloading pegasus-wms.common-5.0.6.tar.gz (47 kB)\n",
            "\u001b[2K     \u001b[90m━━━━━━━━━━━━━━━━━━━━━━━━━━━━━━━━━━━━━━━\u001b[0m \u001b[32m47.1/47.1 kB\u001b[0m \u001b[31m230.6 MB/s\u001b[0m eta \u001b[36m0:00:00\u001b[0m\n",
            "\u001b[?25h  Installing build dependencies ... \u001b[?25l\u001b[?25hdone\n",
            "  Getting requirements to build wheel ... \u001b[?25l\u001b[?25hdone\n",
            "  Preparing metadata (pyproject.toml) ... \u001b[?25l\u001b[?25hdone\n",
            "Collecting igwn-auth-utils>=0.3.1 (from gwdatafind->pycbc)\n",
            "  Downloading igwn_auth_utils-0.4.0-py3-none-any.whl (22 kB)\n",
            "Requirement already satisfied: cryptography>=2.3 in /usr/lib/python3/dist-packages (from igwn-auth-utils>=0.3.1->gwdatafind->pycbc) (3.4.8)\n",
            "Requirement already satisfied: requests>=2.14 in /usr/local/lib/python3.10/dist-packages (from igwn-auth-utils>=0.3.1->gwdatafind->pycbc) (2.27.1)\n",
            "Collecting safe-netrc>=1.0.0 (from igwn-auth-utils>=0.3.1->gwdatafind->pycbc)\n",
            "  Downloading safe_netrc-1.0.1-py3-none-any.whl (10 kB)\n",
            "Collecting scitokens>=1.7.0 (from igwn-auth-utils>=0.3.1->gwdatafind->pycbc)\n",
            "  Downloading scitokens-1.7.4-py3-none-any.whl (27 kB)\n",
            "Collecting cryptography>=2.3 (from igwn-auth-utils>=0.3.1->gwdatafind->pycbc)\n",
            "  Downloading cryptography-41.0.3-cp37-abi3-manylinux_2_28_x86_64.whl (4.3 MB)\n",
            "\u001b[2K     \u001b[90m━━━━━━━━━━━━━━━━━━━━━━━━━━━━━━━━━━━━━━━━\u001b[0m \u001b[32m4.3/4.3 MB\u001b[0m \u001b[31m213.2 MB/s\u001b[0m eta \u001b[36m0:00:00\u001b[0m\n",
            "\u001b[?25hRequirement already satisfied: cffi>=1.12 in /usr/local/lib/python3.10/dist-packages (from cryptography>=2.3->igwn-auth-utils>=0.3.1->gwdatafind->pycbc) (1.15.1)\n",
            "Requirement already satisfied: urllib3<1.27,>=1.21.1 in /usr/local/lib/python3.10/dist-packages (from requests>=2.14->igwn-auth-utils>=0.3.1->gwdatafind->pycbc) (1.26.16)\n",
            "Requirement already satisfied: certifi>=2017.4.17 in /usr/local/lib/python3.10/dist-packages (from requests>=2.14->igwn-auth-utils>=0.3.1->gwdatafind->pycbc) (2023.7.22)\n",
            "Requirement already satisfied: charset-normalizer~=2.0.0 in /usr/local/lib/python3.10/dist-packages (from requests>=2.14->igwn-auth-utils>=0.3.1->gwdatafind->pycbc) (2.0.12)\n",
            "Requirement already satisfied: idna<4,>=2.5 in /usr/local/lib/python3.10/dist-packages (from requests>=2.14->igwn-auth-utils>=0.3.1->gwdatafind->pycbc) (3.4)\n",
            "Requirement already satisfied: PyJWT>=1.6.1 in /usr/lib/python3/dist-packages (from scitokens>=1.7.0->igwn-auth-utils>=0.3.1->gwdatafind->pycbc) (2.3.0)\n",
            "Requirement already satisfied: pycparser in /usr/local/lib/python3.10/dist-packages (from cffi>=1.12->cryptography>=2.3->igwn-auth-utils>=0.3.1->gwdatafind->pycbc) (2.21)\n",
            "Building wheels for collected packages: lscsoft-glue, pegasus-wms.api, python-ligo-lw, ligo-segments, pegasus-wms.common\n",
            "  Building wheel for lscsoft-glue (pyproject.toml) ... \u001b[?25l\u001b[?25hdone\n",
            "  Created wheel for lscsoft-glue: filename=lscsoft_glue-3.0.1-cp310-cp310-linux_x86_64.whl size=246705 sha256=7a6c7624f973237ba4100f9aea11554668a2131e549321b92d0c58b7104115c3\n",
            "  Stored in directory: /tmp/pip-ephem-wheel-cache-rktk20sg/wheels/ed/27/c6/e616150ac6c17c01597c9905efc771d8ef22e591346711f08a\n",
            "  Building wheel for pegasus-wms.api (pyproject.toml) ... \u001b[?25l\u001b[?25hdone\n",
            "  Created wheel for pegasus-wms.api: filename=pegasus_wms.api-5.0.6-py3-none-any.whl size=50064 sha256=1e24712f67d5a612dc2b2f2f99ad8bd10f965a09adc0d50cfc8376b83dbf6b78\n",
            "  Stored in directory: /tmp/pip-ephem-wheel-cache-rktk20sg/wheels/4f/76/84/81fd82d7a107da5e1efe55878728c0c2a1de8d50c907ac8851\n",
            "  Building wheel for python-ligo-lw (setup.py) ... \u001b[?25l\u001b[?25hdone\n",
            "  Created wheel for python-ligo-lw: filename=python_ligo_lw-1.8.3-cp310-cp310-linux_x86_64.whl size=155110 sha256=9abdf3b59e4712a0c480f702c9439c3c7e87a95ff8524b029706e1dd436e7e2a\n",
            "  Stored in directory: /tmp/pip-ephem-wheel-cache-rktk20sg/wheels/56/47/e8/75b3e1cf390f9b408944a7914964f73eb932b0cfb739c9ed1d\n",
            "  Building wheel for ligo-segments (setup.py) ... \u001b[?25l\u001b[?25hdone\n",
            "  Created wheel for ligo-segments: filename=ligo_segments-1.4.0-cp310-cp310-linux_x86_64.whl size=99253 sha256=ec46fa79f74c5f22449297a9a832b5f4736466977846ab40ccb196939581d02d\n",
            "  Stored in directory: /tmp/pip-ephem-wheel-cache-rktk20sg/wheels/6d/48/d1/3466977be4e41ba57f92ad0d5619f083df43cf319a151c4e06\n",
            "  Building wheel for pegasus-wms.common (pyproject.toml) ... \u001b[?25l\u001b[?25hdone\n",
            "  Created wheel for pegasus-wms.common: filename=pegasus_wms.common-5.0.6-py3-none-any.whl size=50816 sha256=3f68489407887f7879ed0bc0de6561ec97400975de9f7331695b8f543b850ad8\n",
            "  Stored in directory: /tmp/pip-ephem-wheel-cache-rktk20sg/wheels/0b/62/b8/c751cda2a8e09c812fe9dbc36abbe8980bd29576d9e449b37a\n",
            "Successfully built lscsoft-glue pegasus-wms.api python-ligo-lw ligo-segments pegasus-wms.common\n",
            "Installing collected packages: ligo-common, safe-netrc, pyRXP, pegasus-wms.common, Mako, ligo-segments, pykerr, pegasus-wms.api, cryptography, scitokens, pyOpenSSL, mpld3, lscsoft-glue, igwn-auth-utils, python-ligo-lw, lalsuite, gwdatafind, pycbc\n",
            "  Attempting uninstall: cryptography\n",
            "    Found existing installation: cryptography 3.4.8\n",
            "    Uninstalling cryptography-3.4.8:\n",
            "      Successfully uninstalled cryptography-3.4.8\n",
            "Successfully installed Mako-1.2.4 cryptography-41.0.3 gwdatafind-1.1.3 igwn-auth-utils-0.4.0 lalsuite-7.18 ligo-common-1.0.3 ligo-segments-1.4.0 lscsoft-glue-3.0.1 mpld3-0.5.9 pegasus-wms.api-5.0.6 pegasus-wms.common-5.0.6 pyOpenSSL-23.2.0 pyRXP-3.0.1 pycbc-2.2.1 pykerr-0.1.0 python-ligo-lw-1.8.3 safe-netrc-1.0.1 scitokens-1.7.4\n"
          ]
        }
      ],
      "source": [
        "import sys\n",
        "!{sys.executable} -m pip install pycbc ligo-common --no-cache-dir"
      ]
    },
    {
      "cell_type": "code",
      "source": [
        "import numpy as np\n",
        "import matplotlib.mlab as mlab\n",
        "from pycbc.waveform import get_fd_waveform, get_td_waveform\n",
        "from pycbc.waveform import td_approximants, fd_approximants\n",
        "from pycbc.detector import Detector\n",
        "from pycbc import waveform\n",
        "from pycbc.filter import matched_filter\n",
        "from scipy import signal\n",
        "from scipy.signal import butter, filtfilt\n",
        "from scipy.interpolate import interp1d\n",
        "%matplotlib inline\n",
        "%config InlineBackend.figure_format = 'retina'\n",
        "import matplotlib.pyplot as plt\n",
        "from matplotlib import rc\n",
        "import matplotlib.projections as mprj\n",
        "import h5py"
      ],
      "metadata": {
        "id": "oDKr64a1zLGT"
      },
      "execution_count": null,
      "outputs": []
    },
    {
      "cell_type": "code",
      "source": [
        "# Formato para las graficas\n",
        "LNWDT=1.3; FNT=18\n",
        "plt.rcParams['lines.linewidth'] = LNWDT; plt.rcParams['font.size'] = FNT\n",
        "#plt.rcParams['xtick.direction'] = 'out'; plt.rcParams['ytick.direction'] = 'out'\n",
        "plt.rcParams['xtick.top'] = 'on'; plt.rcParams['ytick.right'] = 'on'\n",
        "#plt.rcParams['xtick.minor.visible'] = True; plt.rcParams['ytick.minor.visible'] = True\n",
        "plt.rcParams['font.family'] = 'Times New Roman'\n",
        "#plt.rcParams['font.serif'] = 'Times'\n",
        "rc('mathtext', fontset='stix')"
      ],
      "metadata": {
        "id": "RiO0pdkqzUCs"
      },
      "execution_count": null,
      "outputs": []
    },
    {
      "cell_type": "code",
      "source": [
        "#### Constantes cgs #####\n",
        "G = 6.67408*10**-8\n",
        "c = 2.99792458*10**10\n",
        "Msun = 1.98855*10**33\n",
        "tSol = G*Msun/c**3\n",
        "\n",
        "parsec = 3.08568025e18\n",
        "d_source = 1.e6*parsec"
      ],
      "metadata": {
        "id": "upAz8bPozcPP"
      },
      "execution_count": null,
      "outputs": []
    },
    {
      "cell_type": "code",
      "source": [
        "# funcion para whitening\n",
        "def whiten(strain, interp_psd, dt):\n",
        "    Nt = len(strain)\n",
        "    freqs = np.fft.rfftfreq(Nt, dt)\n",
        "\n",
        "    hf = np.fft.rfft(strain)\n",
        "    norm = 1./np.sqrt(1./(dt*2))\n",
        "    white_hf = hf / np.sqrt(interp_psd(freqs)) * norm\n",
        "    white_ht = np.fft.irfft(white_hf, n=Nt)\n",
        "    return white_ht"
      ],
      "metadata": {
        "id": "_CPej8WWzh35"
      },
      "execution_count": null,
      "outputs": []
    },
    {
      "cell_type": "code",
      "source": [
        "# -- Set a GPS time:\n",
        "#t0 = 1126259462.4    # -- GW150914\n",
        "t0 = 1187008882.4    # -- GW170817\n",
        "\n",
        "#-- Choose detector as H1, L1, or V1\n",
        "detector = 'H1'"
      ],
      "metadata": {
        "id": "30O49i_cJnZY"
      },
      "execution_count": 3,
      "outputs": []
    },
    {
      "cell_type": "code",
      "source": [
        "import requests, os\n",
        "%config InlineBackend.figure_format = 'retina'\n",
        "\n",
        "try:\n",
        "    from gwpy.timeseries import TimeSeries\n",
        "except:\n",
        "    ! pip install -q \"gwpy==3.0.4\"\n",
        "    from gwpy.timeseries import TimeSeries"
      ],
      "metadata": {
        "id": "iV9VQgVFKNxb",
        "outputId": "b82166fd-7fee-4a60-aed6-d7faf19c120a",
        "colab": {
          "base_uri": "https://localhost:8080/"
        }
      },
      "execution_count": 5,
      "outputs": [
        {
          "output_type": "stream",
          "name": "stdout",
          "text": [
            "\u001b[2K     \u001b[90m━━━━━━━━━━━━━━━━━━━━━━━━━━━━━━━━━━━━━━━━\u001b[0m \u001b[32m1.4/1.4 MB\u001b[0m \u001b[31m18.1 MB/s\u001b[0m eta \u001b[36m0:00:00\u001b[0m\n",
            "\u001b[2K     \u001b[90m━━━━━━━━━━━━━━━━━━━━━━━━━━━━━━━━━━━━━━━━\u001b[0m \u001b[32m11.9/11.9 MB\u001b[0m \u001b[31m44.8 MB/s\u001b[0m eta \u001b[36m0:00:00\u001b[0m\n",
            "\u001b[?25h"
          ]
        }
      ]
    },
    {
      "cell_type": "code",
      "source": [
        "from gwosc.locate import get_urls\n",
        "url = get_urls(detector, t0, t0)[-1]\n",
        "\n",
        "print('Downloading: ' , url)\n",
        "fn = os.path.basename(url)\n",
        "with open(fn,'wb') as strainfile:\n",
        "    straindata = requests.get(url)\n",
        "    strainfile.write(straindata.content)"
      ],
      "metadata": {
        "id": "k_8cYKEQJzsB",
        "outputId": "ede005ae-263a-4055-eb54-6714dac25ffd",
        "colab": {
          "base_uri": "https://localhost:8080/"
        }
      },
      "execution_count": 6,
      "outputs": [
        {
          "output_type": "stream",
          "name": "stdout",
          "text": [
            "Downloading:  https://gwosc.org/eventapi/json/GWTC-1-confident/GW170817/v3/H-H1_GWOSC_4KHZ_R1-1187006835-4096.hdf5\n"
          ]
        }
      ]
    },
    {
      "cell_type": "code",
      "source": [
        "strain = TimeSeries.read(fn,format='hdf5.gwosc')"
      ],
      "metadata": {
        "id": "I8naW6vlKnTC"
      },
      "execution_count": 9,
      "outputs": []
    },
    {
      "cell_type": "code",
      "source": [
        "strain.dt"
      ],
      "metadata": {
        "id": "LZ71fz7uORhS",
        "outputId": "8d26e404-bba9-42a2-8c6f-540dc6c1337a",
        "colab": {
          "base_uri": "https://localhost:8080/",
          "height": 37
        }
      },
      "execution_count": 15,
      "outputs": [
        {
          "output_type": "execute_result",
          "data": {
            "text/plain": [
              "<Quantity 0.00024414 s>"
            ],
            "text/latex": "$0.00024414062 \\; \\mathrm{s}$"
          },
          "metadata": {},
          "execution_count": 15
        }
      ]
    },
    {
      "cell_type": "code",
      "source": [
        "strain"
      ],
      "metadata": {
        "id": "ujewo2n_K_dk",
        "outputId": "7eb6688f-ca25-4824-b424-547f21fde12c",
        "colab": {
          "base_uri": "https://localhost:8080/",
          "height": 37
        }
      },
      "execution_count": 10,
      "outputs": [
        {
          "output_type": "execute_result",
          "data": {
            "text/plain": [
              "<TimeSeries([-1.90953777e-19, -1.76176603e-19, -1.82604103e-19,\n",
              "             ..., -6.70231357e-19, -6.61236726e-19,\n",
              "             -6.77738035e-19]\n",
              "            unit=Unit(dimensionless),\n",
              "            t0=<Quantity 1.18700684e+09 s>,\n",
              "            dt=<Quantity 0.00024414 s>,\n",
              "            name='Strain',\n",
              "            channel=None)>"
            ],
            "text/latex": "$[-1.9095378 \\times 10^{-19},~-1.761766 \\times 10^{-19},~-1.826041 \\times 10^{-19},~\\dots,~-6.7023136 \\times 10^{-19},~-6.6123673 \\times 10^{-19},~-6.7773803 \\times 10^{-19}] \\; \\mathrm{}$"
          },
          "metadata": {},
          "execution_count": 10
        }
      ]
    },
    {
      "cell_type": "code",
      "source": [
        "from google.colab import drive\n",
        "drive.mount('/content/drive')\n",
        "\n",
        "detectors = ['H1','L1']\n",
        "\n",
        "#strain, time, channel_dict = rl.loaddata(fileName)\n",
        "data_H1 = h5py.File('/content/drive/MyDrive/ColabNotebooks/H-H1_LOSC_CLN_4_V1-1187007040-2048.hdf5', \"r\")\n",
        "data_L1 = h5py.File('/content/drive/MyDrive/ColabNotebooks/H-H1_LOSC_CLN_4_V1-1187007040-2048.hdf5', \"r\")\n",
        "\n",
        "data_in = [data_H1, data_L1]\n",
        "\n",
        "T = 32*2\n",
        "tevent = 1842"
      ],
      "metadata": {
        "colab": {
          "base_uri": "https://localhost:8080/"
        },
        "id": "vFQuMBlfzrJe",
        "outputId": "5d15e088-037f-4356-8bb1-85f6d776a299"
      },
      "execution_count": null,
      "outputs": [
        {
          "output_type": "stream",
          "name": "stdout",
          "text": [
            "Drive already mounted at /content/drive; to attempt to forcibly remount, call drive.mount(\"/content/drive\", force_remount=True).\n"
          ]
        }
      ]
    },
    {
      "cell_type": "code",
      "source": [
        "strain_H1 = data_H1[\"strain\"][\"Strain\"][()]\n",
        "dt_H1 = data_H1[\"strain\"][\"Strain\"].attrs[\"Xspacing\"]\n",
        "\n",
        "strain_L1 = data_L1[\"strain\"][\"Strain\"][()]\n",
        "dt_L1 = data_L1[\"strain\"][\"Strain\"].attrs[\"Xspacing\"]"
      ],
      "metadata": {
        "id": "8y-1HvuFAdF0"
      },
      "execution_count": null,
      "outputs": []
    },
    {
      "cell_type": "code",
      "source": [
        "if dt_H1 == dt_L1:\n",
        "    delta_t = dt_H1\n",
        "else:\n",
        "    delta_t = dt_H1\n",
        "    print ('time arrays sampling is not equal')"
      ],
      "metadata": {
        "id": "6WvBMb73FPel"
      },
      "execution_count": null,
      "outputs": []
    },
    {
      "cell_type": "code",
      "source": [
        "mchirp = 1.197\n",
        "q = 1\n",
        "nu = q / (1.+q)**2\n",
        "mtot = mchirp / nu**(3/5.)\n",
        "m1 = 1.3758\n",
        "m2 = 1.3758\n",
        "lambda1 = 300\n",
        "lambda2 = 300*q\n",
        "print('q  = {0:.2f}'.format(q))\n",
        "print('m1 = {0:.4f}, m2 = {1:.4f}'.format(m1, m2))\n",
        "print('m total = {0:.2f}'.format(mtot))\n",
        "print('mchirp det = {0:.3f}'.format(mchirp))\n",
        "print((m1*m2/(m1+m2)**2)**(3/5.)*(m1+m2))\n",
        "\n",
        "fs = int(1/delta_t)\n",
        "fmin = 30.\n",
        "fmax = 1600."
      ],
      "metadata": {
        "colab": {
          "base_uri": "https://localhost:8080/",
          "height": 336
        },
        "id": "dbAcmCBhzydr",
        "outputId": "f22f241f-6e18-4a32-e21f-51039a4da7ac"
      },
      "execution_count": 2,
      "outputs": [
        {
          "output_type": "stream",
          "name": "stdout",
          "text": [
            "q  = 1.00\n",
            "m1 = 1.3758, m2 = 1.3758\n",
            "m total = 2.75\n",
            "mchirp det = 1.197\n",
            "1.1977034649828076\n"
          ]
        },
        {
          "output_type": "error",
          "ename": "NameError",
          "evalue": "ignored",
          "traceback": [
            "\u001b[0;31m---------------------------------------------------------------------------\u001b[0m",
            "\u001b[0;31mNameError\u001b[0m                                 Traceback (most recent call last)",
            "\u001b[0;32m<ipython-input-2-3c8f00971bee>\u001b[0m in \u001b[0;36m<cell line: 15>\u001b[0;34m()\u001b[0m\n\u001b[1;32m     13\u001b[0m \u001b[0mprint\u001b[0m\u001b[0;34m(\u001b[0m\u001b[0;34m(\u001b[0m\u001b[0mm1\u001b[0m\u001b[0;34m*\u001b[0m\u001b[0mm2\u001b[0m\u001b[0;34m/\u001b[0m\u001b[0;34m(\u001b[0m\u001b[0mm1\u001b[0m\u001b[0;34m+\u001b[0m\u001b[0mm2\u001b[0m\u001b[0;34m)\u001b[0m\u001b[0;34m**\u001b[0m\u001b[0;36m2\u001b[0m\u001b[0;34m)\u001b[0m\u001b[0;34m**\u001b[0m\u001b[0;34m(\u001b[0m\u001b[0;36m3\u001b[0m\u001b[0;34m/\u001b[0m\u001b[0;36m5.\u001b[0m\u001b[0;34m)\u001b[0m\u001b[0;34m*\u001b[0m\u001b[0;34m(\u001b[0m\u001b[0mm1\u001b[0m\u001b[0;34m+\u001b[0m\u001b[0mm2\u001b[0m\u001b[0;34m)\u001b[0m\u001b[0;34m)\u001b[0m\u001b[0;34m\u001b[0m\u001b[0;34m\u001b[0m\u001b[0m\n\u001b[1;32m     14\u001b[0m \u001b[0;34m\u001b[0m\u001b[0m\n\u001b[0;32m---> 15\u001b[0;31m \u001b[0mfs\u001b[0m \u001b[0;34m=\u001b[0m \u001b[0mint\u001b[0m\u001b[0;34m(\u001b[0m\u001b[0;36m1\u001b[0m\u001b[0;34m/\u001b[0m\u001b[0mdelta_t\u001b[0m\u001b[0;34m)\u001b[0m\u001b[0;34m\u001b[0m\u001b[0;34m\u001b[0m\u001b[0m\n\u001b[0m\u001b[1;32m     16\u001b[0m \u001b[0mfmin\u001b[0m \u001b[0;34m=\u001b[0m \u001b[0;36m30.\u001b[0m\u001b[0;34m\u001b[0m\u001b[0;34m\u001b[0m\u001b[0m\n\u001b[1;32m     17\u001b[0m \u001b[0mfmax\u001b[0m \u001b[0;34m=\u001b[0m \u001b[0;36m1600.\u001b[0m\u001b[0;34m\u001b[0m\u001b[0;34m\u001b[0m\u001b[0m\n",
            "\u001b[0;31mNameError\u001b[0m: name 'delta_t' is not defined"
          ]
        }
      ]
    },
    {
      "cell_type": "code",
      "source": [
        "hp, hc = get_td_waveform(approximant='SpinTaylorT4', mass1=m1, mass2=m2,\n",
        "                         f_lower=80, delta_t=1./fs,\n",
        "                         lambda1=300, lambda2=10,\n",
        "                         phase_order=-1,\n",
        "                         amplitude_order=-1)"
      ],
      "metadata": {
        "id": "XCEBf6tu1Mee"
      },
      "execution_count": null,
      "outputs": []
    },
    {
      "cell_type": "code",
      "source": [],
      "metadata": {
        "id": "tvbCmOvN1WvE"
      },
      "execution_count": null,
      "outputs": []
    }
  ]
}
{
  "nbformat": 4,
  "nbformat_minor": 0,
  "metadata": {
    "colab": {
      "provenance": []
    },
    "kernelspec": {
      "name": "python3",
      "display_name": "Python 3"
    },
    "language_info": {
      "name": "python"
    }
  },
  "cells": [
    {
      "cell_type": "markdown",
      "source": [
        "# Análisis de GW170817\n",
        "Un ejemplo para hallar la SNR con una plantilla Post-Newtoniana utilizando la libreria pycbc"
      ],
      "metadata": {
        "id": "fzrs3QThxmSz"
      }
    },
    {
      "cell_type": "code",
      "execution_count": 5,
      "metadata": {
        "colab": {
          "base_uri": "https://localhost:8080/"
        },
        "id": "Z1egtyZWw6Ez",
        "outputId": "8ebaa56e-c5d8-4275-f683-73f4589ab787"
      },
      "outputs": [
        {
          "output_type": "stream",
          "name": "stdout",
          "text": [
            "Requirement already satisfied: pycbc in /usr/local/lib/python3.10/dist-packages (2.2.1)\n",
            "Requirement already satisfied: ligo-common in /usr/local/lib/python3.10/dist-packages (1.0.3)\n",
            "Requirement already satisfied: numpy>=1.16.0 in /usr/local/lib/python3.10/dist-packages (from pycbc) (1.22.4)\n",
            "Requirement already satisfied: cython>=0.29 in /usr/local/lib/python3.10/dist-packages (from pycbc) (0.29.36)\n",
            "Requirement already satisfied: scipy>=0.16.0 in /usr/local/lib/python3.10/dist-packages (from pycbc) (1.10.1)\n",
            "Requirement already satisfied: astropy!=4.0.5,!=4.2.1,>=2.0.3 in /usr/local/lib/python3.10/dist-packages (from pycbc) (5.2.2)\n",
            "Requirement already satisfied: matplotlib>=1.5.1 in /usr/local/lib/python3.10/dist-packages (from pycbc) (3.7.1)\n",
            "Requirement already satisfied: mpld3>=0.3 in /usr/local/lib/python3.10/dist-packages (from pycbc) (0.5.9)\n",
            "Requirement already satisfied: pillow in /usr/local/lib/python3.10/dist-packages (from pycbc) (9.4.0)\n",
            "Requirement already satisfied: h5py!=3.7.0,>=3.0.0 in /usr/local/lib/python3.10/dist-packages (from pycbc) (3.8.0)\n",
            "Requirement already satisfied: jinja2 in /usr/local/lib/python3.10/dist-packages (from pycbc) (3.1.2)\n",
            "Requirement already satisfied: Mako>=1.0.1 in /usr/local/lib/python3.10/dist-packages (from pycbc) (1.2.4)\n",
            "Requirement already satisfied: beautifulsoup4>=4.6.0 in /usr/local/lib/python3.10/dist-packages (from pycbc) (4.11.2)\n",
            "Requirement already satisfied: tqdm in /usr/local/lib/python3.10/dist-packages (from pycbc) (4.65.0)\n",
            "Requirement already satisfied: setuptools in /usr/local/lib/python3.10/dist-packages (from pycbc) (67.7.2)\n",
            "Requirement already satisfied: gwdatafind in /usr/local/lib/python3.10/dist-packages (from pycbc) (1.1.3)\n",
            "Requirement already satisfied: pegasus-wms.api>=5.0.3 in /usr/local/lib/python3.10/dist-packages (from pycbc) (5.0.6)\n",
            "Requirement already satisfied: python-ligo-lw>=1.7.0 in /usr/local/lib/python3.10/dist-packages (from pycbc) (1.8.3)\n",
            "Requirement already satisfied: ligo-segments in /usr/local/lib/python3.10/dist-packages (from pycbc) (1.4.0)\n",
            "Requirement already satisfied: lalsuite!=7.2 in /usr/local/lib/python3.10/dist-packages (from pycbc) (7.18)\n",
            "Requirement already satisfied: lscsoft-glue>=1.59.3 in /usr/local/lib/python3.10/dist-packages (from pycbc) (3.0.1)\n",
            "Requirement already satisfied: pykerr in /usr/local/lib/python3.10/dist-packages (from pycbc) (0.1.0)\n",
            "Requirement already satisfied: pyerfa>=2.0 in /usr/local/lib/python3.10/dist-packages (from astropy!=4.0.5,!=4.2.1,>=2.0.3->pycbc) (2.0.0.3)\n",
            "Requirement already satisfied: PyYAML>=3.13 in /usr/local/lib/python3.10/dist-packages (from astropy!=4.0.5,!=4.2.1,>=2.0.3->pycbc) (6.0.1)\n",
            "Requirement already satisfied: packaging>=19.0 in /usr/local/lib/python3.10/dist-packages (from astropy!=4.0.5,!=4.2.1,>=2.0.3->pycbc) (23.1)\n",
            "Requirement already satisfied: soupsieve>1.2 in /usr/local/lib/python3.10/dist-packages (from beautifulsoup4>=4.6.0->pycbc) (2.4.1)\n",
            "Requirement already satisfied: python-dateutil in /usr/local/lib/python3.10/dist-packages (from lalsuite!=7.2->pycbc) (2.8.2)\n",
            "Requirement already satisfied: pyOpenSSL in /usr/local/lib/python3.10/dist-packages (from lscsoft-glue>=1.59.3->pycbc) (23.2.0)\n",
            "Requirement already satisfied: pyRXP in /usr/local/lib/python3.10/dist-packages (from lscsoft-glue>=1.59.3->pycbc) (3.0.1)\n",
            "Requirement already satisfied: six in /usr/local/lib/python3.10/dist-packages (from lscsoft-glue>=1.59.3->pycbc) (1.16.0)\n",
            "Requirement already satisfied: MarkupSafe>=0.9.2 in /usr/local/lib/python3.10/dist-packages (from Mako>=1.0.1->pycbc) (2.1.3)\n",
            "Requirement already satisfied: contourpy>=1.0.1 in /usr/local/lib/python3.10/dist-packages (from matplotlib>=1.5.1->pycbc) (1.1.0)\n",
            "Requirement already satisfied: cycler>=0.10 in /usr/local/lib/python3.10/dist-packages (from matplotlib>=1.5.1->pycbc) (0.11.0)\n",
            "Requirement already satisfied: fonttools>=4.22.0 in /usr/local/lib/python3.10/dist-packages (from matplotlib>=1.5.1->pycbc) (4.41.1)\n",
            "Requirement already satisfied: kiwisolver>=1.0.1 in /usr/local/lib/python3.10/dist-packages (from matplotlib>=1.5.1->pycbc) (1.4.4)\n",
            "Requirement already satisfied: pyparsing>=2.3.1 in /usr/local/lib/python3.10/dist-packages (from matplotlib>=1.5.1->pycbc) (3.1.0)\n",
            "Requirement already satisfied: pegasus-wms.common in /usr/local/lib/python3.10/dist-packages (from pegasus-wms.api>=5.0.3->pycbc) (5.0.6)\n",
            "Requirement already satisfied: igwn-auth-utils>=0.3.1 in /usr/local/lib/python3.10/dist-packages (from gwdatafind->pycbc) (0.4.0)\n",
            "Requirement already satisfied: cryptography>=2.3 in /usr/local/lib/python3.10/dist-packages (from igwn-auth-utils>=0.3.1->gwdatafind->pycbc) (41.0.3)\n",
            "Requirement already satisfied: requests>=2.14 in /usr/local/lib/python3.10/dist-packages (from igwn-auth-utils>=0.3.1->gwdatafind->pycbc) (2.27.1)\n",
            "Requirement already satisfied: safe-netrc>=1.0.0 in /usr/local/lib/python3.10/dist-packages (from igwn-auth-utils>=0.3.1->gwdatafind->pycbc) (1.0.1)\n",
            "Requirement already satisfied: scitokens>=1.7.0 in /usr/local/lib/python3.10/dist-packages (from igwn-auth-utils>=0.3.1->gwdatafind->pycbc) (1.7.4)\n",
            "Requirement already satisfied: cffi>=1.12 in /usr/local/lib/python3.10/dist-packages (from cryptography>=2.3->igwn-auth-utils>=0.3.1->gwdatafind->pycbc) (1.15.1)\n",
            "Requirement already satisfied: urllib3<1.27,>=1.21.1 in /usr/local/lib/python3.10/dist-packages (from requests>=2.14->igwn-auth-utils>=0.3.1->gwdatafind->pycbc) (1.26.16)\n",
            "Requirement already satisfied: certifi>=2017.4.17 in /usr/local/lib/python3.10/dist-packages (from requests>=2.14->igwn-auth-utils>=0.3.1->gwdatafind->pycbc) (2023.7.22)\n",
            "Requirement already satisfied: charset-normalizer~=2.0.0 in /usr/local/lib/python3.10/dist-packages (from requests>=2.14->igwn-auth-utils>=0.3.1->gwdatafind->pycbc) (2.0.12)\n",
            "Requirement already satisfied: idna<4,>=2.5 in /usr/local/lib/python3.10/dist-packages (from requests>=2.14->igwn-auth-utils>=0.3.1->gwdatafind->pycbc) (3.4)\n",
            "Requirement already satisfied: PyJWT>=1.6.1 in /usr/lib/python3/dist-packages (from scitokens>=1.7.0->igwn-auth-utils>=0.3.1->gwdatafind->pycbc) (2.3.0)\n",
            "Requirement already satisfied: pycparser in /usr/local/lib/python3.10/dist-packages (from cffi>=1.12->cryptography>=2.3->igwn-auth-utils>=0.3.1->gwdatafind->pycbc) (2.21)\n"
          ]
        }
      ],
      "source": [
        "import sys\n",
        "!{sys.executable} -m pip install pycbc ligo-common --no-cache-dir"
      ]
    },
    {
      "cell_type": "code",
      "source": [
        "import numpy as np\n",
        "import matplotlib.mlab as mlab\n",
        "from pycbc.waveform import get_fd_waveform, get_td_waveform\n",
        "from pycbc.waveform import td_approximants, fd_approximants\n",
        "from pycbc.detector import Detector\n",
        "from pycbc import waveform\n",
        "from pycbc.filter import matched_filter\n",
        "from scipy import signal\n",
        "from scipy.signal import butter, filtfilt\n",
        "from scipy.interpolate import interp1d\n",
        "%matplotlib inline\n",
        "%config InlineBackend.figure_format = 'retina'\n",
        "import matplotlib.pyplot as plt\n",
        "from matplotlib import rc\n",
        "import matplotlib.projections as mprj\n",
        "import h5py"
      ],
      "metadata": {
        "id": "oDKr64a1zLGT"
      },
      "execution_count": 6,
      "outputs": []
    },
    {
      "cell_type": "code",
      "source": [
        "# Formato para las graficas\n",
        "LNWDT=1.3; FNT=18\n",
        "plt.rcParams['lines.linewidth'] = LNWDT; plt.rcParams['font.size'] = FNT\n",
        "#plt.rcParams['xtick.direction'] = 'out'; plt.rcParams['ytick.direction'] = 'out'\n",
        "plt.rcParams['xtick.top'] = 'on'; plt.rcParams['ytick.right'] = 'on'\n",
        "#plt.rcParams['xtick.minor.visible'] = True; plt.rcParams['ytick.minor.visible'] = True\n",
        "plt.rcParams['font.family'] = 'Times New Roman'\n",
        "#plt.rcParams['font.serif'] = 'Times'\n",
        "rc('mathtext', fontset='stix')"
      ],
      "metadata": {
        "id": "RiO0pdkqzUCs"
      },
      "execution_count": 7,
      "outputs": []
    },
    {
      "cell_type": "code",
      "source": [
        "#### Constants cgs #####\n",
        "G = 6.67408*10**-8\n",
        "c = 2.99792458*10**10\n",
        "Msun = 1.98855*10**33\n",
        "tSol = G*Msun/c**3\n",
        "\n",
        "parsec = 3.08568025e18\n",
        "d_source = 1.e6*parsec"
      ],
      "metadata": {
        "id": "upAz8bPozcPP"
      },
      "execution_count": 8,
      "outputs": []
    },
    {
      "cell_type": "code",
      "source": [
        "# funcion para whitening\n",
        "def whiten(strain, interp_psd, dt):\n",
        "    Nt = len(strain)\n",
        "    freqs = np.fft.rfftfreq(Nt, dt)\n",
        "\n",
        "    hf = np.fft.rfft(strain)\n",
        "    norm = 1./np.sqrt(1./(dt*2))\n",
        "    white_hf = hf / np.sqrt(interp_psd(freqs)) * norm\n",
        "    white_ht = np.fft.irfft(white_hf, n=Nt)\n",
        "    return white_ht"
      ],
      "metadata": {
        "id": "_CPej8WWzh35"
      },
      "execution_count": 9,
      "outputs": []
    },
    {
      "cell_type": "code",
      "source": [
        "from google.colab import drive\n",
        "drive.mount('/content/drive')\n",
        "\n",
        "detectors = ['H1','L1']\n",
        "\n",
        "#strain, time, channel_dict = rl.loaddata(fileName)\n",
        "data_H1 = h5py.File('/content/drive/MyDrive/ColabNotebooks/H-H1_LOSC_CLN_4_V1-1187007040-2048.hdf5', \"r\")\n",
        "data_L1 = h5py.File('/content/drive/MyDrive/ColabNotebooks/H-H1_LOSC_CLN_4_V1-1187007040-2048.hdf5', \"r\")\n",
        "\n",
        "data_in = [data_H1, data_L1]\n",
        "\n",
        "T = 32*2\n",
        "tevent = 1842"
      ],
      "metadata": {
        "colab": {
          "base_uri": "https://localhost:8080/"
        },
        "id": "vFQuMBlfzrJe",
        "outputId": "5d15e088-037f-4356-8bb1-85f6d776a299"
      },
      "execution_count": 35,
      "outputs": [
        {
          "output_type": "stream",
          "name": "stdout",
          "text": [
            "Drive already mounted at /content/drive; to attempt to forcibly remount, call drive.mount(\"/content/drive\", force_remount=True).\n"
          ]
        }
      ]
    },
    {
      "cell_type": "code",
      "source": [
        "strain_H1 = data_H1[\"strain\"][\"Strain\"][()]\n",
        "dt_H1 = data_H1[\"strain\"][\"Strain\"].attrs[\"Xspacing\"]\n",
        "\n",
        "strain_L1 = data_L1[\"strain\"][\"Strain\"][()]\n",
        "dt_L1 = data_L1[\"strain\"][\"Strain\"].attrs[\"Xspacing\"]"
      ],
      "metadata": {
        "id": "8y-1HvuFAdF0"
      },
      "execution_count": 36,
      "outputs": []
    },
    {
      "cell_type": "code",
      "source": [
        "if dt_H1 == dt_L1:\n",
        "    delta_t = dt_H1\n",
        "else:\n",
        "    delta_t = dt_H1\n",
        "    print ('time arrays sampling is not equal')\n",
        "fs = int(1/delta_t)\n",
        "fmin = 30.\n",
        "fmax = 1600."
      ],
      "metadata": {
        "id": "6WvBMb73FPel"
      },
      "execution_count": 37,
      "outputs": []
    },
    {
      "cell_type": "code",
      "source": [
        "mchirp = 1.197\n",
        "q = 1\n",
        "nu = q / (1.+q)**2\n",
        "mtot = mchirp / nu**(3/5.)\n",
        "m1 = 1.3758\n",
        "m2 = 1.3758\n",
        "lambda1 = 300\n",
        "lambda2 = 300*q\n",
        "print('q  = {0:.2f}'.format(q))\n",
        "print('m1 = {0:.4f}, m2 = {1:.4f}'.format(m1, m2))\n",
        "print('m total = {0:.2f}'.format(mtot))\n",
        "print('mchirp det = {0:.3f}'.format(mchirp))\n",
        "print((m1*m2/(m1+m2)**2)**(3/5.)*(m1+m2))"
      ],
      "metadata": {
        "colab": {
          "base_uri": "https://localhost:8080/"
        },
        "id": "dbAcmCBhzydr",
        "outputId": "f6e5cbbf-bdeb-409a-a1af-7dc16e06d707"
      },
      "execution_count": 13,
      "outputs": [
        {
          "output_type": "stream",
          "name": "stdout",
          "text": [
            "q  = 1.00\n",
            "m1 = 1.3758, m2 = 1.3758\n",
            "m total = 2.75\n",
            "mchirp det = 1.197\n",
            "1.1977034649828076\n"
          ]
        }
      ]
    },
    {
      "cell_type": "code",
      "source": [
        "hp, hc = get_td_waveform(approximant='SpinTaylorT4', mass1=m1, mass2=m2,\n",
        "                         f_lower=80, delta_t=1./fs,\n",
        "                         lambda1=300, lambda2=10,\n",
        "                         phase_order=-1,\n",
        "                         amplitude_order=-1)"
      ],
      "metadata": {
        "id": "XCEBf6tu1Mee"
      },
      "execution_count": 38,
      "outputs": []
    },
    {
      "cell_type": "code",
      "source": [],
      "metadata": {
        "id": "tvbCmOvN1WvE"
      },
      "execution_count": null,
      "outputs": []
    }
  ]
}